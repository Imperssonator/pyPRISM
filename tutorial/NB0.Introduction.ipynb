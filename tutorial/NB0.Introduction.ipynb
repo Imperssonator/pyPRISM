{
 "cells": [
  {
   "cell_type": "markdown",
   "metadata": {
    "ExecuteTime": {
     "end_time": "2017-10-16T14:51:06.313902Z",
     "start_time": "2017-10-16T14:51:06.174988Z"
    }
   },
   "source": [
    "![](img/TOC.svg)"
   ]
  },
  {
   "cell_type": "markdown",
   "metadata": {},
   "source": [
    "# Welcome to the pyPRISM Tutorial!\n",
    "\n",
    "The Polymer Reference Interaction Site Model (PRISM) theory describes the **equilibrium** spatial-correlations of liquid-like polymer systems. The goal of this tutorial is to educate users on both the basics of PRISM theory and the pyPRISM tool."
   ]
  },
  {
   "cell_type": "markdown",
   "metadata": {},
   "source": [
    "## What systems can be studied with PRISM?\n",
    "\n",
    "- Polymer melts/blends \n",
    "    - olefinic and non-olefinic polymers\n",
    "    - linear/branched/dendritic/sidechain polymers\n",
    "- Copolymer melts/blends\n",
    "- Polymer solutions\n",
    "- Nanoparticle solutions\n",
    "- Polymer nanocomposites\n",
    "- Liquid crystals (with anistropic formalism)\n",
    "- Micelle Solutions \n",
    "- Polyelectrolytes\n",
    "    - rod-like polymers\n",
    "    - flexible polymers \n",
    "- Ionomers\n",
    "- Ionic liquids"
   ]
  },
  {
   "cell_type": "markdown",
   "metadata": {},
   "source": [
    "## What thermodynamic and structural quantities can PRISM calculate?\n",
    "\n",
    "- Second virial coefficients, $B_2$\n",
    "- Flory effective interaction parameters, $\\chi^{eff}$\n",
    "- Potentials of mean force\n",
    "- Pair correlation functions (i.e. radial distribution functions)\n",
    "- Partial structure factors\n",
    "- Spinodal transition temperatures\n",
    "- Equations of state\n",
    "- Isothermal compressibilities"
   ]
  },
  {
   "cell_type": "markdown",
   "metadata": {},
   "source": [
    "## What are the benefits of using PRISM over other simulation or theory methods?\n",
    "- is orders of magnitude faster\n",
    "    - typically takes seconds to minutes to solve equations\n",
    "- **does not** have finite size effects\n",
    "- **does not** need to be equilibrated\n",
    "- is *mostly* free of incompressibility assumptions"
   ]
  },
  {
   "cell_type": "markdown",
   "metadata": {},
   "source": [
    "## For what systems is PRISM theory **not** applicable for?\n",
    "- macrophase-separated systems\n",
    "- non-isotropic phases\n",
    "- systems with strong nematic ordering (without anistropic formalism)\n",
    "- calculating dynamic properties (e.g., diffusion coefficients, rheological properties)"
   ]
  },
  {
   "cell_type": "markdown",
   "metadata": {},
   "source": [
    "## Citations\n",
    "If you use pyPRISM in your work, we ask that you please cite both of the following articles\n",
    "\n",
    "- Martin, T.B.; Gartner, T.E. III; Jones, R.L.; Snyder, C.R.; Jayaraman, A.; pyPRISM: A Computational Tool for Liquid State Theory Calculations of Macromolecular Materials (submitted)\n",
    "\n",
    "- Schweizer, K.S.; Curro, J.G.; INTEGRAL EQUATION THEORY OF THE STRUCTURE OF POLYMER MELTS, Physical Review Letters, 1987, 58 (3) p246-249 doi: http://dx.doi.org/10.1103/PhysRevLett.58.246"
   ]
  },
  {
   "cell_type": "markdown",
   "metadata": {},
   "source": [
    "## Setup\n",
    "   \n",
    "Detailed instructions for installation and usage of pyPRISM can be found in the [documentation](http://pyprism.readthedocs.io/en/latest/install/install.html) on ReadTheDocs.io."
   ]
  },
  {
   "cell_type": "markdown",
   "metadata": {},
   "source": [
    "## Tutorial Tracks\n",
    "\n",
    "In order to cater to users at multiple levels and capabilities, we have created different tracks for users to follow. The image below describes our recommendations for users with different backgrounds and intentions. Of course, these are only recommendations and users should feel free to study whichever documents they wish to. Note that some of the notebooks are still under construction and we intend to continue to grow and extend this tutorial."
   ]
  },
  {
   "cell_type": "markdown",
   "metadata": {
    "ExecuteTime": {
     "end_time": "2017-10-16T14:51:06.313902Z",
     "start_time": "2017-10-16T14:51:06.174988Z"
    }
   },
   "source": [
    "![](img/tracks.svg)\n",
    "\n",
    "[NB0.Introduction](NB0.Introduction.ipynb) $\\cdot$   [NB1.PythonBasics](NB1.PythonBasics.ipynb) $\\cdot$   [NB2.Theory.General](NB2.Theory.General.ipynb) $\\cdot$   [NB3.Theory.PRISM](NB3.Theory.PRISM.ipynb) $\\cdot$   [NB4.pyPRISM.Overview](NB4.pyPRISM.Overview.ipynb) $\\cdot$   [NB5.CaseStudies.PolymerMelts](NB5.CaseStudies.PolymerMelts.ipynb) $\\cdot$   [NB6.CaseStudies.Nanocomposites](NB6.CaseStudies.Nanocomposites.ipynb) $\\cdot$   [NB7.CaseStudies.Copolymers](NB7.CaseStudies.Copolymers.ipynb) $\\cdot$   [NB8.pyPRISM.Internals](NB8.pyPRISM.Internals.ipynb) $\\cdot$   [NB9.pyPRISM.Advanced](NB9.pyPRISM.Advanced.ipynb) "
   ]
  },
  {
   "cell_type": "markdown",
   "metadata": {
    "ExecuteTime": {
     "end_time": "2017-12-20T14:46:59.184545Z",
     "start_time": "2017-12-20T14:46:59.170123Z"
    }
   },
   "source": [
    "## Legal\n",
    "\n",
    "### Disclaimer\n",
    "Any identification of commercial or open-source software in these notebooks is done so purely in order to specify the methodology adequately. Such identification is not intended to imply recommendation or endorsement by the National Institute of Standards and Technology, nor is it intended to imply that the softwares identified are necessarily the best available for the purpose. \n",
    "\n",
    "### License\n",
    "This software was developed by employees of the National Institute of Standards and Technology (NIST), an agency of the Federal Government. Pursuant to title 17 United States Code Section 105, works of NIST employees are not subject to copyright protection in the United States and are considered to be in the public domain. Permission to freely use, copy, modify, and distribute this software and its documentation without fee is hereby granted, provided that this notice and disclaimer of warranty appears in all copies.\n",
    "\n",
    "THE SOFTWARE IS PROVIDED 'AS IS' WITHOUT ANY WARRANTY OF ANY KIND, EITHER EXPRESSED, IMPLIED, OR STATUTORY, INCLUDING, BUT NOT LIMITED TO, ANY WARRANTY THAT THE SOFTWARE WILL CONFORM TO SPECIFICATIONS, ANY IMPLIED WARRANTIES OF MERCHANTABILITY, FITNESS FOR A PARTICULAR PURPOSE, AND FREEDOM FROM INFRINGEMENT, AND ANY WARRANTY THAT THE DOCUMENTATION WILL CONFORM TO THE SOFTWARE, OR ANY WARRANTY THAT THE SOFTWARE WILL BE ERROR FREE. IN NO EVENT SHALL NIST BE LIABLE FOR ANY DAMAGES, INCLUDING, BUT NOT LIMITED TO, DIRECT, INDIRECT, SPECIAL OR CONSEQUENTIAL DAMAGES, ARISING OUT OF, RESULTING FROM, OR IN ANY WAY CONNECTED WITH THIS SOFTWARE, WHETHER OR NOT BASED UPON WARRANTY, CONTRACT, TORT, OR OTHERWISE, WHETHER OR NOT INJURY WAS SUSTAINED BY PERSONS OR PROPERTY OR OTHERWISE, AND WHETHER OR NOT LOSS WAS SUSTAINED FROM, OR AROSE OUT OF THE RESULTS OF, OR USE OF, THE SOFTWARE OR SERVICES PROVIDED HEREUNDER.\n",
    "\n",
    "Distributions of NIST software should also include copyright and licensing statements of any third-party software that are legally bundled with the code in compliance with the conditions of those licenses."
   ]
  }
 ],
 "metadata": {
  "kernelspec": {
   "display_name": "Python 3",
   "language": "python",
   "name": "python3"
  },
  "language_info": {
   "codemirror_mode": {
    "name": "ipython",
    "version": 3
   },
   "file_extension": ".py",
   "mimetype": "text/x-python",
   "name": "python",
   "nbconvert_exporter": "python",
   "pygments_lexer": "ipython3",
   "version": "3.5.5"
  }
 },
 "nbformat": 4,
 "nbformat_minor": 2
}
