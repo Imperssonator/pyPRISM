{
 "cells": [
  {
   "cell_type": "markdown",
   "metadata": {},
   "source": [
    "![](img/TOC.svg)"
   ]
  },
  {
   "cell_type": "markdown",
   "metadata": {},
   "source": [
    "# General Theory Concepts\n",
    "\n",
    "Before we start digging into the details of PRISM and our implementation, it is worth highlighting a few general theoretical topics. For those with a simulation or theory background, this notebook can probably be skipped.\n",
    "\n",
    "### Concepts\n",
    "- Reduced Units"
   ]
  },
  {
   "cell_type": "markdown",
   "metadata": {},
   "source": [
    "## Notebook Setup\n",
    "To begin, please run `Kernel-> Restart & Clear Output` from the menu at the top of the notebook. It is a good idea to run this before starting any notebook so that the notebook is fresh for the user. Next, run the cell below (via the top menu-bar or `<Shift-Enter>`. If the cell throws an import error, there is likely something wrong with your environment.\n",
    "\n",
    "### Troubleshooting:\n",
    "- Did you activate the correct conda environment before starting the jupyter notebook? \n",
    "- If not using anaconda, did you install all dependencies before starting the jupyter notebook? \n",
    "- Is pyPRISM installed in your current environment on your `PYTHONPATH`? \n",
    "\n"
   ]
  },
  {
   "cell_type": "code",
   "execution_count": 1,
   "metadata": {
    "ExecuteTime": {
     "end_time": "2018-05-24T17:52:43.935032Z",
     "start_time": "2018-05-24T17:52:43.614711Z"
    }
   },
   "outputs": [],
   "source": [
    "import pyPRISM\n",
    "import numpy as np"
   ]
  },
  {
   "cell_type": "markdown",
   "metadata": {},
   "source": [
    "## Reduced Units\n",
    "\n",
    "pyPRISM operates in a system of reduced units commonly called 'Lennard Jones units'. In this unit system, all measures are reported relative to characteristic values: \n",
    "- characteristic length = $d_c$\n",
    "- characteristic mass   = $m_c$\n",
    "- characteristic energy = $e_c$\n",
    "\n",
    "While pyPRISM does not need to know the characteristic values to carry out calculations, users will need to give all input parameters in terms of these values. Note that the choice of characteristic values should not affect the results if all parameters are correctly scaled. The values are mostly arbitrary, but they should be chosen such that they correspond to values taken from the real system under study.  For example, for mixture of nanoparticles with diameters\n",
    "- $d_{1}=2.0\\ nm$ \n",
    "- $d_{2}=10.0\\ nm$\n",
    "\n",
    "a user might want to set \n",
    "- $d_c = 2\\ nm$\n",
    "\n",
    "so that the diameters can be reported to pyPRISM as \n",
    "- $d^{*}_{1} = 1\\ d_c$ \n",
    "- $d^{*}_{2} = 5\\ d_c$. \n",
    "\n",
    "Note that the star ,$*$, indicates a reduced variable while the subscript $c$ indicates a characteristic unit. \n",
    "\n",
    "The characteristic energy is often chosen to be representative of an important energy scale in the system under study. For example, one could choose the size of thermal fluctuations ($k_B T$) at a given temperature. To convert from reduced temperature reported in units of thermal energy, $T^{*}$, one must use the relation  \n",
    "- $T^{*} = \\frac{k_{B}T}{e_{c}}$  "
   ]
  },
  {
   "cell_type": "markdown",
   "metadata": {},
   "source": [
    "It can be tedious for those outside of the simulation and theory fields to work in these unit systems. pyPRISM has a `UnitConverter` class that is designed to allow for easy translation between common reduced and real unit systems. The `UnitConverter` class is built on top of the `Pint` library.\n",
    "\n",
    "In the example below we choose a set of characteristic units, and create a unit converter object."
   ]
  },
  {
   "cell_type": "code",
   "execution_count": 2,
   "metadata": {
    "ExecuteTime": {
     "end_time": "2018-05-24T17:52:44.076507Z",
     "start_time": "2018-05-24T17:52:43.936613Z"
    }
   },
   "outputs": [
    {
     "name": "stdout",
     "output_type": "stream",
     "text": [
      "<UnitConverter  dc:1e-09 meter | mc:0.01402 kilogram / mole | ec:2480.0 kilogram * meter ** 2 / mole / second ** 2>\n"
     ]
    }
   ],
   "source": [
    "uconv = pyPRISM.util.UnitConverter( dc=1.0,   dc_unit='nanometer',\n",
    "                                    mc=14.02, mc_unit='gram/mole',\n",
    "                                    ec=2.48,  ec_unit='kilojoule/mole')\n",
    "\n",
    "print(uconv)"
   ]
  },
  {
   "cell_type": "markdown",
   "metadata": {},
   "source": [
    "Next, we can use several built in methods to convert common reduced units to real units. Note that these functions return a `Quantity` object rather than a number. To obtain the number as a floating point value, use the magnitude attribute as shown below"
   ]
  },
  {
   "cell_type": "code",
   "execution_count": 3,
   "metadata": {
    "ExecuteTime": {
     "end_time": "2018-05-24T17:52:44.091698Z",
     "start_time": "2018-05-24T17:52:44.078984Z"
    }
   },
   "outputs": [
    {
     "name": "stdout",
     "output_type": "stream",
     "text": [
      "Reduced Temperature (ec)\n",
      "1.25\n",
      "Temperature (ec)\n",
      "372.8443218289683 kelvin\n",
      "372.8443218289683\n",
      "\n",
      "T is of type <class 'pint.quantity.build_quantity_class.<locals>.Quantity'>\n",
      "T.magnitude is of type <class 'float'>\n"
     ]
    }
   ],
   "source": [
    "# convert thermal energy to temperature\n",
    "Tstar = 1.25\n",
    "T = uconv.toKelvin(Tstar)\n",
    "\n",
    "print(\"Reduced Temperature (ec)\")\n",
    "print(Tstar)\n",
    "\n",
    "print(\"Temperature (ec)\")\n",
    "print(T)\n",
    "print(T.magnitude)\n",
    "\n",
    "print()\n",
    "\n",
    "print('T is of type',type(T))\n",
    "print('T.magnitude is of type',type(T.magnitude))"
   ]
  },
  {
   "cell_type": "markdown",
   "metadata": {},
   "source": [
    "The `UnitConverter` class also has a built in conversion for reduced wavenumber in order to make comparison to experimental scattering measurements easier. "
   ]
  },
  {
   "cell_type": "code",
   "execution_count": 4,
   "metadata": {
    "ExecuteTime": {
     "end_time": "2018-05-24T17:52:44.102319Z",
     "start_time": "2018-05-24T17:52:44.093890Z"
    }
   },
   "outputs": [
    {
     "name": "stdout",
     "output_type": "stream",
     "text": [
      "Reduced Wavenumber (dc^-1)\n",
      "[0.01       0.01668101 0.02782559 0.04641589 0.07742637 0.12915497\n",
      " 0.21544347 0.35938137 0.59948425 1.        ]\n",
      "\n",
      "Wavenumber (A^-1)\n",
      "[0.001      0.0016681  0.00278256 0.00464159 0.00774264 0.0129155 0.02154435 0.03593814 0.05994843 0.1       ] / angstrom\n"
     ]
    }
   ],
   "source": [
    "#convert reduced wavenumbers to inverse angstroms or inverse nanometers\n",
    "kstar = np.logspace(start=-2,stop=0,num=10) #reduced wavenumber values\n",
    "k = uconv.toInvAngstrom(kstar)\n",
    "\n",
    "print(\"Reduced Wavenumber (dc^-1)\")\n",
    "print(kstar)\n",
    "print()\n",
    "\n",
    "print(\"Wavenumber (A^-1)\")\n",
    "print(k)"
   ]
  },
  {
   "cell_type": "markdown",
   "metadata": {},
   "source": [
    "Alternatively, users can work directly with the `Pint` library. In the UnitConverter class, we have defined reduced unit `Quantities` that can be used for more \"manual\" unit conversion. "
   ]
  },
  {
   "cell_type": "code",
   "execution_count": 5,
   "metadata": {
    "ExecuteTime": {
     "end_time": "2018-05-24T17:52:44.121106Z",
     "start_time": "2018-05-24T17:52:44.104761Z"
    }
   },
   "outputs": [
    {
     "name": "stdout",
     "output_type": "stream",
     "text": [
      "Tstar = 1.25 echar\n",
      "T = 1.25 echar / avogadro_number / boltzmann_constant\n",
      "T = 372.8443218289683 kelvin\n"
     ]
    }
   ],
   "source": [
    "Tstar = 1.25*uconv.ec # uconv.ec is the reduced \"unit\" \n",
    "print('Tstar =', Tstar)\n",
    "\n",
    "T = Tstar/uconv.pint.boltzmann_constant/uconv.pint.avogadro_number\n",
    "print('T =',T)\n",
    "print('T =',T.to('kelvin'))"
   ]
  },
  {
   "cell_type": "markdown",
   "metadata": {},
   "source": [
    "## Summary\n",
    "\n",
    "The goal of this notebook is to demystify some general theory topics for the reader. As we are continuously developing this tutorial, users should feel free to send us suggestions for future topics to go over in this or other notebooks. "
   ]
  },
  {
   "cell_type": "markdown",
   "metadata": {},
   "source": [
    "![](img/tracks.svg)\n",
    "\n",
    "[NB0.Introduction](NB0.Introduction.ipynb) $\\cdot$   [NB1.PythonBasics](NB1.PythonBasics.ipynb) $\\cdot$   [NB2.Theory.General](NB2.Theory.General.ipynb) $\\cdot$   [NB3.Theory.PRISM](NB3.Theory.PRISM.ipynb) $\\cdot$   [NB4.pyPRISM.Overview](NB4.pyPRISM.Overview.ipynb) $\\cdot$   [NB5.CaseStudies.PolymerMelts](NB5.CaseStudies.PolymerMelts.ipynb) $\\cdot$   [NB6.CaseStudies.Nanocomposites](NB6.CaseStudies.Nanocomposites.ipynb) $\\cdot$   [NB7.CaseStudies.Copolymers](NB7.CaseStudies.Copolymers.ipynb) $\\cdot$   [NB8.pyPRISM.Internals](NB8.pyPRISM.Internals.ipynb) $\\cdot$   [NB9.pyPRISM.Advanced](NB9.pyPRISM.Advanced.ipynb)"
   ]
  }
 ],
 "metadata": {
  "kernelspec": {
   "display_name": "Python 3",
   "language": "python",
   "name": "python3"
  },
  "language_info": {
   "codemirror_mode": {
    "name": "ipython",
    "version": 3
   },
   "file_extension": ".py",
   "mimetype": "text/x-python",
   "name": "python",
   "nbconvert_exporter": "python",
   "pygments_lexer": "ipython3",
   "version": "3.5.5"
  }
 },
 "nbformat": 4,
 "nbformat_minor": 2
}
