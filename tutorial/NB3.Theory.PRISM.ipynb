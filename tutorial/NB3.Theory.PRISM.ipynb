{
 "cells": [
  {
   "cell_type": "markdown",
   "metadata": {},
   "source": [
    "![](img/TOC.svg)"
   ]
  },
  {
   "cell_type": "markdown",
   "metadata": {},
   "source": [
    "# PRISM Theory\n",
    "\n",
    "In this introductory notebook, we will cover a number of concepts from both a theoretical and technical standpoint. The primary goal is to orient you so that you have a basic understanding of Python and the Jupyter environment and the basics of PRISM theory.\n",
    "\n",
    "### Concepts\n",
    "- PRISM Equation\n",
    "- Total Correlation Function\n",
    "- Intra-molecular Correlation Function\n",
    "- Direct Correlation Function"
   ]
  },
  {
   "cell_type": "markdown",
   "metadata": {},
   "source": [
    "##  The PRISM Equation\n",
    "![](img/PRISM_overview.svg)\n",
    "\n",
    "PRISM theory describes the spatial correlations between spherical sites which represent either an atomic species or some collection of atoms in the molecule (e.g. a monomer or statistical segment of a polymer chain). By carrying out calculations with multiple site types, one can represent homopolymers with chemically complex monomers, polymer blends, copolymers, nanocomposites, and colloidal solutions. All information about the chemistry and connectively of these systems is encoded into the pair-interactions and intra-molecular correlation functions as will be discussed below. \n",
    "\n",
    "In general, for a material system that can be represented with $n$ types of sites, the PRISM equation is written in Fourier space as\n",
    "\n",
    "$$\\hat{H}(k) = \\hat{\\Omega}(k)\\hat{C}(k) [\\hat{\\Omega}(k) + \\hat{H}(k)]$$\n",
    "\n",
    "with $\\hat{H}(k)$, $\\hat{\\Omega}(k)$, and $\\hat{C}(k)$ as $n \\times n$ matrices of correlation values at wavenumber k. Note that the overhat notation and the functional designation $(k)$ indicate that these variables are functions in Fourier-Space. The above equation greatly benefits from the Fourier Convolution Theorem as it is a complicated integral equation in Real-space.\n",
    "\n",
    "The meaning of each of these variables is briefly discussed below for a three component system with site-types A, B, and C."
   ]
  },
  {
   "cell_type": "markdown",
   "metadata": {},
   "source": [
    "## Total Correlation Function, $\\hat{H}(k)$\n",
    "$$ \\hat{H}(k) = \n",
    "    \\begin{bmatrix}\n",
    "        \\rho^{pair}_{AA} \\hat{h}_{AA}(k) & \\rho^{pair}_{AB} \\hat{h}_{AB}(k) & \\rho^{pair}_{AC} \\hat{h}_{AC}(k) \\\\\n",
    "        \\rho^{pair}_{BA} \\hat{h}_{BA}(k) & \\rho^{pair}_{BB} \\hat{h}_{BB}(k) & \\rho^{pair}_{BC} \\hat{h}_{BC}(k) \\\\\n",
    "        \\rho^{pair}_{CA} \\hat{h}_{CA}(k) & \\rho^{pair}_{CB} \\hat{h}_{CB}(k) & \\rho^{pair}_{CC} \\hat{h}_{CC}(k) \\\\\n",
    "    \\end{bmatrix}\n",
    "$$\n",
    "\n",
    "in which $\\rho^{pair}_{\\alpha\\beta}=\\rho_{\\alpha}\\rho_{\\beta}$ and $\\rho_{\\alpha},\\rho_{\\beta}$ correspond to the site number densities of site types $\\alpha$ and $\\beta$ respectively. In Real-space, $h_{\\alpha\\beta}(r)$ corresponds to the pair correlation function (a.k.a radial distribution function) as\n",
    "\n",
    "$$ h_{\\alpha\\beta}(r) = g_{\\alpha\\beta}(r) - 1$$\n",
    "\n",
    "in which $r$ is the separation distance between sites of type $\\alpha$ and $\\beta$. Note that all spatial correlations matrices are, by definition, symmetric with site-type pairs, *i.e.* $h_{\\alpha\\beta}(r)  = h_{\\beta,\\alpha}(r)$.\n",
    "\n",
    "$\\hat{H}(k)$ is found as a result of a numerical PRISM calculation."
   ]
  },
  {
   "cell_type": "markdown",
   "metadata": {},
   "source": [
    "## *Intra*-molecular Correlation Function, $\\hat{\\Omega}(k)$\n",
    "$$ \\hat{\\Omega}(k) = \n",
    "    \\begin{bmatrix}\n",
    "        \\rho^{site}_{AA} \\hat{\\omega}_{AA}(k) & \\rho^{site}_{AB} \\hat{\\omega}_{AB}(k) & \\rho^{site}_{AC} \\hat{\\omega}_{AC}(k) \\\\\n",
    "        \\rho^{site}_{BA} \\hat{\\omega}_{BA}(k) & \\rho^{site}_{BB} \\hat{\\omega}_{BB}(k) & \\rho^{site}_{BC} \\hat{\\omega}_{BC}(k) \\\\\n",
    "        \\rho^{site}_{CA} \\hat{\\omega}_{CA}(k) & \\rho^{site}_{CB} \\hat{\\omega}_{CB}(k) & \\rho^{site}_{CC} \\hat{\\omega}_{CC}(k) \\\\\n",
    "    \\end{bmatrix}\n",
    "$$\n",
    "\n",
    "in which $\\rho^{site}_{\\alpha\\beta}=\\rho_{\\alpha} + \\rho_{\\beta}$ if $\\alpha \\neq \\beta$ and $\\rho^{site}_{\\alpha\\beta}=\\rho_{\\alpha}$ otherwise. In brief, $\\hat{\\Omega}(k)$ specifies the connectivity and structure of the molecules in a system. In contrast to $\\hat{H}(k)$ which only specifies the *inter*-molecular correlations between molecules, $\\hat{\\Omega}(k)$ only describes the correlations within molecules. Each $\\hat{\\omega}(k)$ is analagous to a form-factor from PRISM theory. \n",
    "\n",
    "$\\hat{\\Omega}(k)$ is an input to numerical PRISM calculations."
   ]
  },
  {
   "cell_type": "markdown",
   "metadata": {},
   "source": [
    "## Direct Correlation Function, $\\hat{C}(k)$\n",
    "$$ \\hat{C}(k) = \n",
    "    \\begin{bmatrix}\n",
    "        \\hat{c}_{AA}(k) & \\hat{c}_{AB}(k) & \\hat{c}_{AC}(k) \\\\\n",
    "        \\hat{c}_{BA}(k) & \\hat{c}_{BB}(k) & \\hat{c}_{BC}(k) \\\\\n",
    "        \\hat{c}_{CA}(k) & \\hat{c}_{CB}(k) & \\hat{c}_{CC}(k) \\\\\n",
    "    \\end{bmatrix}\n",
    "$$\n",
    "\n",
    "$\\hat{C}(k)$ describes the *inter*-molecular correlations between sites when many-molecule effects (beyond pair) are removed. \n",
    "\n",
    "$\\hat{C}(k)$ is found as a result of a numerical PRISM calculation."
   ]
  },
  {
   "cell_type": "markdown",
   "metadata": {},
   "source": [
    "## Summary\n",
    "The goal of this notebook is not to comprehensively cover the details of PRISM theory, but rather to give the user the broad strokes of the formalism. Hopefully, the details in this notebook will clarify some of the calculations that users will carry out later. "
   ]
  },
  {
   "cell_type": "markdown",
   "metadata": {},
   "source": [
    "![](img/tracks.svg)\n",
    "\n",
    "[NB0.Introduction](NB0.Introduction.ipynb) $\\cdot$   [NB1.PythonBasics](NB1.PythonBasics.ipynb) $\\cdot$   [NB2.Theory.General](NB2.Theory.General.ipynb) $\\cdot$   [NB3.Theory.PRISM](NB3.Theory.PRISM.ipynb) $\\cdot$   [NB4.pyPRISM.Overview](NB4.pyPRISM.Overview.ipynb) $\\cdot$   [NB5.CaseStudies.PolymerMelts](NB5.CaseStudies.PolymerMelts.ipynb) $\\cdot$   [NB6.CaseStudies.Nanocomposites](NB6.CaseStudies.Nanocomposites.ipynb) $\\cdot$   [NB7.CaseStudies.Copolymers](NB7.CaseStudies.Copolymers.ipynb) $\\cdot$   [NB8.pyPRISM.Internals](NB8.pyPRISM.Internals.ipynb) $\\cdot$   [NB9.pyPRISM.Advanced](NB9.pyPRISM.Advanced.ipynb)"
   ]
  }
 ],
 "metadata": {
  "kernelspec": {
   "display_name": "Python 3",
   "language": "python",
   "name": "python3"
  },
  "language_info": {
   "codemirror_mode": {
    "name": "ipython",
    "version": 3
   },
   "file_extension": ".py",
   "mimetype": "text/x-python",
   "name": "python",
   "nbconvert_exporter": "python",
   "pygments_lexer": "ipython3",
   "version": "3.5.5"
  }
 },
 "nbformat": 4,
 "nbformat_minor": 2
}
