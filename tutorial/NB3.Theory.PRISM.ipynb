{
 "cells": [
  {
   "cell_type": "markdown",
   "metadata": {
    "ExecuteTime": {
     "end_time": "2017-10-16T14:51:06.313902Z",
     "start_time": "2017-10-16T14:51:06.174988Z"
    }
   },
   "source": [
    "![](img/TOC.svg)"
   ]
  },
  {
   "cell_type": "markdown",
   "metadata": {},
   "source": [
    "# PRISM Theory\n",
    "\n",
    "In this introductory notebook, we will cover a number of concepts from both a theoretical and technical standpoint. The primary goal is to orient you so that you have a basic understanding of Python and the Jupyter environment and the basics of PRISM theory.\n",
    "\n",
    "### Concepts\n",
    "- PRISM Equation\n",
    "- Total Correlation Function\n",
    "- Intra-molecular Correlation Function\n",
    "- Direct Correlation Function"
   ]
  },
  {
   "cell_type": "markdown",
   "metadata": {},
   "source": [
    "##  The PRISM Equation\n",
    "![](img/PRISM_overview.svg)\n",
    "\n",
    "PRISM theory describes the spatial correlations between spherical sites which represent either an atomic species or some collection of atoms in the molecule (e.g. a monomer or statistical segment of a polymer chain). By carrying out calculations with multiple site types, one can represent homopolymers with chemically complex monomers, polymer blends, copolymers, nanocomposites, and colloidal solutions. All information about the chemistry and connectively of these systems is encoded into the pair-interactions and intra-molecular correlation functions as will be discussed below. \n",
    "\n",
    "In general, for a material system that can be represented with $n$ types of sites, the PRISM equation is written in Fourier space as\n",
    "\n",
    "$$\\hat{H}(k) = \\hat{\\Omega}(k)\\hat{C}(k) [\\hat{\\Omega}(k) + \\hat{H}(k)]$$\n",
    "\n",
    "with $\\hat{H}(k)$, $\\hat{\\Omega}(k)$, and $\\hat{C}(k)$ as $n \\times n$ matrices of correlation values at wavenumber k. Note that the overhat notation and the functional designation $(k)$ indicate that these variables are functions in Fourier-Space. The above equation greatly benefits from the Fourier Convolution Theorem as it is a complicated integral equation in Real-space.\n",
    "\n",
    "The meaning of each of these variables is briefly discussed below for a three component system with site-types A, B, and C."
   ]
  },
  {
   "cell_type": "markdown",
   "metadata": {},
   "source": [
    "## Total Correlation Function, $\\hat{H}(k)$\n",
    "$$ \\hat{H}(k) = \n",
    "    \\begin{bmatrix}\n",
    "        \\rho^{pair}_{AA} \\hat{h}_{AA}(k) & \\rho^{pair}_{AB} \\hat{h}_{AB}(k) & \\rho^{pair}_{AC} \\hat{h}_{AC}(k) \\\\\n",
    "        \\rho^{pair}_{BA} \\hat{h}_{BA}(k) & \\rho^{pair}_{BB} \\hat{h}_{BB}(k) & \\rho^{pair}_{BC} \\hat{h}_{BC}(k) \\\\\n",
    "        \\rho^{pair}_{CA} \\hat{h}_{CA}(k) & \\rho^{pair}_{CB} \\hat{h}_{CB}(k) & \\rho^{pair}_{CC} \\hat{h}_{CC}(k) \\\\\n",
    "    \\end{bmatrix}\n",
    "$$\n",
    "\n",
    "in which $\\rho^{pair}_{\\alpha\\beta}=\\rho_{\\alpha}\\rho_{\\beta}$ and $\\rho_{\\alpha},\\rho_{\\beta}$ correspond to the site number densities of site types $\\alpha$ and $\\beta$ respectively. In Real-space, $h_{\\alpha\\beta}(r)$ corresponds to the pair correlation function (a.k.a radial distribution function) as\n",
    "\n",
    "$$ h_{\\alpha\\beta}(r) = g_{\\alpha\\beta}(r) - 1$$\n",
    "\n",
    "in which $r$ is the separation distance between sites of type $\\alpha$ and $\\beta$. Note that all spatial correlations matrices are, by definition, symmetric with site-type pairs, *i.e.* $h_{\\alpha\\beta}(r)  = h_{\\beta,\\alpha}(r)$.\n",
    "\n",
    "$\\hat{H}(k)$ is found as a result of a numerical PRISM calculation."
   ]
  },
  {
   "cell_type": "markdown",
   "metadata": {},
   "source": [
    "## *Intra*-molecular Correlation Function, $\\hat{\\Omega}(k)$\n",
    "$$ \\hat{\\Omega}(k) = \n",
    "    \\begin{bmatrix}\n",
    "        \\rho^{site}_{AA} \\hat{\\omega}_{AA}(k) & \\rho^{site}_{AB} \\hat{\\omega}_{AB}(k) & \\rho^{site}_{AC} \\hat{\\omega}_{AC}(k) \\\\\n",
    "        \\rho^{site}_{BA} \\hat{\\omega}_{BA}(k) & \\rho^{site}_{BB} \\hat{\\omega}_{BB}(k) & \\rho^{site}_{BC} \\hat{\\omega}_{BC}(k) \\\\\n",
    "        \\rho^{site}_{CA} \\hat{\\omega}_{CA}(k) & \\rho^{site}_{CB} \\hat{\\omega}_{CB}(k) & \\rho^{site}_{CC} \\hat{\\omega}_{CC}(k) \\\\\n",
    "    \\end{bmatrix}\n",
    "$$\n",
    "\n",
    "in which $\\rho^{site}_{\\alpha\\beta}=\\rho_{\\alpha} + \\rho_{\\beta}$ if $\\alpha \\neq \\beta$ and $\\rho^{site}_{\\alpha\\beta}=\\rho_{\\alpha}$ otherwise. In brief, $\\hat{\\Omega}(k)$ specifies the connectivity and structure of the molecules in a system. In contrast to $\\hat{H}(k)$ which only specifies the *inter*-molecular correlations between molecules, $\\hat{\\Omega}(k)$ only describes the correlations within molecules. Each $\\hat{\\omega}(k)$ is analagous to a form-factor from PRISM theory. \n",
    "\n",
    "$\\hat{\\Omega}(k)$ is an input to numerical PRISM calculations."
   ]
  },
  {
   "cell_type": "markdown",
   "metadata": {},
   "source": [
    "## Direct Correlation Function, $\\hat{C}(k)$\n",
    "$$ \\hat{C}(k) = \n",
    "    \\begin{bmatrix}\n",
    "        \\hat{c}_{AA}(k) & \\hat{c}_{AB}(k) & \\hat{c}_{AC}(k) \\\\\n",
    "        \\hat{c}_{BA}(k) & \\hat{c}_{BB}(k) & \\hat{c}_{BC}(k) \\\\\n",
    "        \\hat{c}_{CA}(k) & \\hat{c}_{CB}(k) & \\hat{c}_{CC}(k) \\\\\n",
    "    \\end{bmatrix}\n",
    "$$\n",
    "\n",
    "$\\hat{C}(k)$ describes the *inter*-molecular correlations between sites when many-molecule effects (beyond pair) are removed. \n",
    "\n",
    "$\\hat{C}(k)$ is found as a result of a numerical PRISM calculation."
   ]
  },
  {
   "cell_type": "markdown",
   "metadata": {},
   "source": [
    "## Summary\n",
    "The goal of this notebook is not to comprehensively cover the details of PRISM theory, but rather to give the user the broad strokes of the formalism. Hopefully, the details in this notebook will clarify some of the calculations that users will carry out later. "
   ]
  },
  {
   "cell_type": "markdown",
   "metadata": {},
   "source": [
    "![](img/tracks.svg)\n",
    "\n",
    "[NB0.Introduction](NB0.Introduction.ipynb) $\\cdot$   [NB1.PythonBasics](NB1.PythonBasics.ipynb) $\\cdot$   [NB2.Theory.General](NB2.Theory.General.ipynb) $\\cdot$   [NB3.Theory.PRISM](NB3.Theory.PRISM.ipynb) $\\cdot$   [NB4.pyPRISM.Overview](NB4.pyPRISM.Overview.ipynb) $\\cdot$   [NB5.CaseStudies.PolymerMelts](NB5.CaseStudies.PolymerMelts.ipynb) $\\cdot$   [NB6.CaseStudies.Nanocomposites](NB6.CaseStudies.Nanocomposites.ipynb) $\\cdot$   [NB7.CaseStudies.Copolymers](NB7.CaseStudies.Copolymers.ipynb) $\\cdot$   [NB8.pyPRISM.Internals](NB8.pyPRISM.Internals.ipynb) $\\cdot$   [NB9.pyPRISM.Advanced](NB9.pyPRISM.Advanced.ipynb)"
   ]
  },
  {
   "cell_type": "markdown",
   "metadata": {},
   "source": [
    "## Legal\n",
    "\n",
    "### Disclaimer\n",
    "Any identification of commercial or open-source software in these notebooks is done so purely in order to specify the methodology adequately. Such identification is not intended to imply recommendation or endorsement by the National Institute of Standards and Technology, nor is it intended to imply that the softwares identified are necessarily the best available for the purpose. \n",
    "\n",
    "### License\n",
    "This software was developed by employees of the National Institute of Standards and Technology (NIST), an agency of the Federal Government. Pursuant to title 17 United States Code Section 105, works of NIST employees are not subject to copyright protection in the United States and are considered to be in the public domain. Permission to freely use, copy, modify, and distribute this software and its documentation without fee is hereby granted, provided that this notice and disclaimer of warranty appears in all copies.\n",
    "\n",
    "THE SOFTWARE IS PROVIDED 'AS IS' WITHOUT ANY WARRANTY OF ANY KIND, EITHER EXPRESSED, IMPLIED, OR STATUTORY, INCLUDING, BUT NOT LIMITED TO, ANY WARRANTY THAT THE SOFTWARE WILL CONFORM TO SPECIFICATIONS, ANY IMPLIED WARRANTIES OF MERCHANTABILITY, FITNESS FOR A PARTICULAR PURPOSE, AND FREEDOM FROM INFRINGEMENT, AND ANY WARRANTY THAT THE DOCUMENTATION WILL CONFORM TO THE SOFTWARE, OR ANY WARRANTY THAT THE SOFTWARE WILL BE ERROR FREE. IN NO EVENT SHALL NIST BE LIABLE FOR ANY DAMAGES, INCLUDING, BUT NOT LIMITED TO, DIRECT, INDIRECT, SPECIAL OR CONSEQUENTIAL DAMAGES, ARISING OUT OF, RESULTING FROM, OR IN ANY WAY CONNECTED WITH THIS SOFTWARE, WHETHER OR NOT BASED UPON WARRANTY, CONTRACT, TORT, OR OTHERWISE, WHETHER OR NOT INJURY WAS SUSTAINED BY PERSONS OR PROPERTY OR OTHERWISE, AND WHETHER OR NOT LOSS WAS SUSTAINED FROM, OR AROSE OUT OF THE RESULTS OF, OR USE OF, THE SOFTWARE OR SERVICES PROVIDED HEREUNDER.\n",
    "\n",
    "Distributions of NIST software should also include copyright and licensing statements of any third-party software that are legally bundled with the code in compliance with the conditions of those licenses."
   ]
  }
 ],
 "metadata": {
  "kernelspec": {
   "display_name": "Python 3",
   "language": "python",
   "name": "python3"
  },
  "language_info": {
   "codemirror_mode": {
    "name": "ipython",
    "version": 3
   },
   "file_extension": ".py",
   "mimetype": "text/x-python",
   "name": "python",
   "nbconvert_exporter": "python",
   "pygments_lexer": "ipython3",
   "version": "3.5.4"
  }
 },
 "nbformat": 4,
 "nbformat_minor": 2
}
